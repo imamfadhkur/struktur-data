{
 "cells": [
  {
   "cell_type": "markdown",
   "metadata": {},
   "source": [
    "# Graph"
   ]
  },
  {
   "cell_type": "markdown",
   "metadata": {},
   "source": [
    "    Graph adalah jaringan yang terdiri dari node atau vertex, atau V. Yang terhubung dengan edge atau arc, atau E. Graph dapat didefinisikan sebagai sepasang set dari G=(V,E), dimana V adalah vertex/node/titik dan E adalah edge/arc atau set node pasangannya. Sebagai contoh, set node V = {a, b, c, d} dan set pasangannya E = {{a, b}, {b, c}, {c, d}, {d, a}}."
   ]
  },
  {
   "cell_type": "markdown",
   "metadata": {},
   "source": [
    "### Istilah dalah Graph"
   ]
  },
  {
   "cell_type": "markdown",
   "metadata": {},
   "source": [
    "Beberapa istilah yang terdapat dalam graph, antara lain:\n",
    "\n",
    "1. Vertex (V) adalah bagian paling dasar dari grafik atau yang disebut juga sebagai node atau titik.\n",
    "2. Edge (E) adalah bagian dari graph yang menghubungkan 2 vertex/node/titik.\n",
    "3. Weight (W) adalah sebuah nilai dalam graph atau yang menunjukan biaya yang dibutuhkan untuk berpindah dari satu titik ke titik yang lain. Misalnya sebuah peta diinterpestasikan dalam graph, maka jarak satu kota ke kota lain disebut Weight.\n",
    "4. Path adalah serangkaian vertex yang berbeda-beda yang berdekatan dihubungkan oleh edge dan berturut-turut dari vertex satu ke vertex berikutnya. Path dari a ke c adalah urutan vertex (a,b,c) yang terdiri dari beberapa pasang Edge {(a,b), (b,c)} atau urutan vertex (a,d,c) yang terdiri dari beberapa pasang Edge {(a,d), (b,c)}"
   ]
  },
  {
   "cell_type": "markdown",
   "metadata": {},
   "source": [
    "### Jenis Graph"
   ]
  },
  {
   "cell_type": "markdown",
   "metadata": {},
   "source": [
    "    Bentuk dari graph dibedakan menjadi beberapa jenis, antara lain: Undirected Graph, Directed Graph, Weigthed Graph, Unweigthed Graph, Cyle Graph, Conected Graph, Unconeted Graph dan Complete Graph. Masing-masing jenis akan dijelaskan secara detil."
   ]
  },
  {
   "cell_type": "markdown",
   "metadata": {},
   "source": [
    "##### 1. Undirected Graph"
   ]
  },
  {
   "cell_type": "markdown",
   "metadata": {},
   "source": [
    "Sebuah graph yang ujung – ujung dari edge tidak memiliki arah (atau tidak memiliki mata panah), dimana setiap ujung dari edge berlaku dua arah. Misalkan: {a,b} Arah bisa dari a ke b, atau b ke a  a-b terdiri dari {a,b} atau {b,a}"
   ]
  },
  {
   "cell_type": "markdown",
   "metadata": {},
   "source": [
    "contoh lainnya adalah:"
   ]
  },
  {
   "cell_type": "markdown",
   "metadata": {},
   "source": [
    "Graph  = {V, E}\n",
    "Vertex = {a,b,c,d}\n",
    "Edge   = { {a,b},{a,d},{b,c}, {d,c}}"
   ]
  },
  {
   "cell_type": "markdown",
   "metadata": {},
   "source": [
    "##### 1. Directed Graph (Digraph)"
   ]
  },
  {
   "cell_type": "markdown",
   "metadata": {},
   "source": [
    "Sebuah graph yang ujung – ujung dari edge memilikiarah, dimana setiap ujung dari edge dalam Digraph memiliki anak panah yang mengarah ke vertex tertentu.\n",
    "Misalkan: {a,b} Arah bisa dari a ke b\n",
    " a→b terdiri dari {a,b} "
   ]
  },
  {
   "cell_type": "markdown",
   "metadata": {},
   "source": [
    "Graph  = {V, E}\n",
    "Vertex = {a,b,c,d}\n",
    "Edge   = { {a,b},{a,d},{b,c}, {d,c}}"
   ]
  },
  {
   "cell_type": "markdown",
   "metadata": {},
   "source": [
    "##### 3. Weigthed Graph dan UnWeigthed Graph "
   ]
  },
  {
   "cell_type": "markdown",
   "metadata": {},
   "source": [
    "Weigthed Graph Sebuah graph dimana setiap edge memiliki nilai. Nilai tersebut adalah representasi dari bobot/biaya/weight dari edge tersebut. Bobot ini boleh lebih dari satu, semisal jarak antar kota, jumlah kendaraan yang melintasi kota tersebut, dll.\n"
   ]
  },
  {
   "cell_type": "markdown",
   "metadata": {},
   "source": [
    "G = {V, E}\n",
    "V = {a,b,c,d}\n",
    "E = { {a,b,4},{a,d,5},{b,c,3}, {d,c,6}}\n",
    "\n",
    "Jumlah bobot dalam weighted graph adalah sejumlah nilai untuk semua edge dalam suatu path, seperti path dari a ke c maka jumlah bobotnya adalah 7. Gambar 4 juga disebut unweighted graph maka jumlah bobotnya dihitung dari jumlahnya edge. Jika path dari a ke c maka bobotnya adalah 2."
   ]
  },
  {
   "cell_type": "markdown",
   "metadata": {},
   "source": [
    "##### 4. Cyle Graph"
   ]
  },
  {
   "cell_type": "markdown",
   "metadata": {},
   "source": [
    "Sebuah directed graph dimana titik awal sama dengan titik tujuan. Atau sebuah path yang kembali kepada titik awal, misal path (a,b,d,a)"
   ]
  },
  {
   "cell_type": "markdown",
   "metadata": {},
   "source": [
    "##### 5. Connected Graph dan Disconnected Graph"
   ]
  },
  {
   "cell_type": "markdown",
   "metadata": {},
   "source": [
    "vertex terhubung satu dengan lainnya, dalam graph tersebut tidak ada vertex yang tidak terhubung. Sedangkan disconnected graph jika salah satu vertex tidak terhubung dengan vertex lainnya, atau dapat dikatakan tidak ada jalur menuju vertex tersebut. Gambar 7a adalah Connected Graph dan gambar 7b adalah disconnected Graph."
   ]
  },
  {
   "cell_type": "markdown",
   "metadata": {},
   "source": [
    "##### 6. Complete Graph"
   ]
  },
  {
   "cell_type": "markdown",
   "metadata": {},
   "source": [
    "Completed Graph adalah sebuah graph dimana semua vertex terhubung dengan lainnya, tidak ada edge yang terputus. Gambar 3 dan 4 adalah contoh Complete Graph"
   ]
  },
  {
   "cell_type": "markdown",
   "metadata": {},
   "source": [
    "### Representasi Graph"
   ]
  },
  {
   "cell_type": "markdown",
   "metadata": {},
   "source": [
    "Cara untuk mengimplementasikan suatu graph. Ada 2 cara, yaitu Adjacency Matrix dan Adjacency List."
   ]
  },
  {
   "cell_type": "markdown",
   "metadata": {},
   "source": [
    "#### 1. Adjacency List"
   ]
  },
  {
   "cell_type": "markdown",
   "metadata": {},
   "source": [
    "Salah satu cara merepresentasikan graph sebagai array dalam list/link list. Indeks dari array merepresentasikan  20 sebuah vertex atau node asal dan setiap elemen dalam list/link list tersebut merepresentasikan vertex lain yang terhubung dari vertex asal. Dengan adjacency list memudahkan menemukan semua tautan vertex yang terhubung secara langsung dengan vertex asal."
   ]
  },
  {
   "cell_type": "markdown",
   "metadata": {},
   "source": [
    "##### 1. Representasi dengan List/Dictionary"
   ]
  },
  {
   "cell_type": "markdown",
   "metadata": {},
   "source": [
    "Untuk setiap vertex (V) akan menyimpan list yang berisi tetangga dari V. A:[b,d] artinya vertex a mempunyai tetangga b dan d. Implementasinya menggunakan bahasa Python adalah sebagai berikut ini."
   ]
  },
  {
   "cell_type": "markdown",
   "metadata": {},
   "source": [
    "###### A. list"
   ]
  },
  {
   "cell_type": "code",
   "execution_count": 1,
   "metadata": {},
   "outputs": [
    {
     "name": "stdout",
     "output_type": "stream",
     "text": [
      "Semua tetangga dari vertex a:  ['b', 'd']\n",
      "Semua tetangga dari vertex d:  ['a', 'b', 'c']\n",
      "\n",
      "Menampilkan semua vertex dan tetangganya masing-masing\n",
      "a : ['b', 'd']\n",
      "b : ['a', 'd']\n",
      "c : ['d']\n",
      "d : ['a', 'b', 'c']\n"
     ]
    }
   ],
   "source": [
    "# A. list of lists\n",
    "adjLists = [ ['b','d'], ['a','d'], ['d'], ['a','b','c'] ]\n",
    "node= ['a','b','c','d']\n",
    "# testing\n",
    "print(\"Semua tetangga dari vertex a: \", adjLists[0])\n",
    "print(\"Semua tetangga dari vertex d: \", adjLists[3])\n",
    "print(\"\\nMenampilkan semua vertex dan tetangganya masing-masing\")\n",
    "n = len(adjLists)\n",
    "for n in range(0,n):\n",
    "    print(node[n], \":\", adjLists[n])"
   ]
  },
  {
   "cell_type": "markdown",
   "metadata": {},
   "source": [
    "###### B. Dictionary\n",
    "Alternatif lain untuk mengimplementasikan adjacency list menggunakan dictionary, yang terdiri dari pasangan (key, record) = (node, adjList)."
   ]
  },
  {
   "cell_type": "code",
   "execution_count": 3,
   "metadata": {},
   "outputs": [
    {
     "name": "stdout",
     "output_type": "stream",
     "text": [
      "Semua tetangga dari vertex indeks ke a:  ['b', 'd']\n",
      "Semua tetangga dari vertex indeks ke d:  ['a', 'b', 'c']\n",
      "\n",
      "Menampilkan semua vertex dan tetangganya masing-masing\n",
      "a : ['b', 'd']\n",
      "b : ['a', 'd']\n",
      "c : ['d']\n",
      "d : ['a', 'b', 'c']\n"
     ]
    }
   ],
   "source": [
    "adjLists_dict = {}\n",
    "# insert (vertex, list) pairs into dictionary\n",
    "adjLists_dict = {'a': ['b', 'd'],\n",
    "                 'b': ['a', 'd'],\n",
    "                 'c': ['d'],\n",
    "                 'd': ['a','b','c'],\n",
    "                }\n",
    "# testing\n",
    "print(\"Semua tetangga dari vertex indeks ke a: \",adjLists_dict['a'])\n",
    "print(\"Semua tetangga dari vertex indeks ke d: \",adjLists_dict['d'])\n",
    "print(\"\\nMenampilkan semua vertex dan tetangganya masing-masing\")\n",
    "for node in adjLists_dict:\n",
    "      print(node, \":\", adjLists_dict[node])\n"
   ]
  },
  {
   "cell_type": "markdown",
   "metadata": {},
   "source": [
    "##### 2. Representasi dengan Link List"
   ]
  },
  {
   "cell_type": "markdown",
   "metadata": {},
   "source": [
    "contoh:"
   ]
  },
  {
   "cell_type": "markdown",
   "metadata": {},
   "source": [
    "0 → 1 → 3\n",
    "1 → 0 → 3\n",
    "2 → 3\n",
    "3 → 0 → 1 → 2"
   ]
  },
  {
   "cell_type": "code",
   "execution_count": 6,
   "metadata": {},
   "outputs": [
    {
     "name": "stdout",
     "output_type": "stream",
     "text": [
      "Adjacency list dari vertex 0\n",
      " head -> 3 -> 1 \n",
      "\n",
      "Adjacency list dari vertex 1\n",
      " head -> 3 -> 0 \n",
      "\n",
      "Adjacency list dari vertex 2\n",
      " head -> 3 \n",
      "\n",
      "Adjacency list dari vertex 3\n",
      " head -> 2 -> 1 -> 0 \n",
      "\n"
     ]
    }
   ],
   "source": [
    "# A class to represent the adjacency list of the node\n",
    "class AdjNode:\n",
    "    def __init__(self, data):\n",
    "        self.vertex = data\n",
    "        self.next = None\n",
    "        \n",
    "# A class to represent a graph. A graph\n",
    "# is the list of the adjacency lists.\n",
    "# Size of the array will be the no. of the\n",
    "# vertices \"V\"\n",
    "class Graph:\n",
    "    def __init__(self, vertices):\n",
    "        self.V = vertices\n",
    "        self.graph = [None] * self.V\n",
    "    \n",
    "    # Function to add an edge in an undirected graph\n",
    "    def add_edge(self, src, dest):\n",
    "    # Adding the node to the source node\n",
    "        node = AdjNode(dest)\n",
    "        node.next = self.graph[src]\n",
    "        self.graph[src] = node\n",
    "        # Adding the source node to the destination as\n",
    "        # it is the undirected graph\n",
    "        node = AdjNode(src)\n",
    "        node.next = self.graph[dest]\n",
    "        self.graph[dest] = node\n",
    "    \n",
    "    # Function to print the graph\n",
    "    def print_graph(self):\n",
    "        for i in range(self.V):\n",
    "            print(\"Adjacency list dari vertex {}\\n head\".format(i),end=\"\")\n",
    "            temp = self.graph[i]\n",
    "            while temp:\n",
    "                print(\" -> {}\".format(temp.vertex), end=\"\")\n",
    "                temp = temp.next\n",
    "            print(\" \\n\")\n",
    "\n",
    "# Driver program to the above graph class\n",
    "if __name__ == \"__main__\":\n",
    "    V = 4\n",
    "    graph = Graph(V)\n",
    "    graph.add_edge(0, 1)\n",
    "    graph.add_edge(0, 3)\n",
    "    graph.add_edge(1, 3)\n",
    "    graph.add_edge(2, 3)\n",
    "    graph.print_graph()"
   ]
  },
  {
   "cell_type": "markdown",
   "metadata": {},
   "source": [
    "#### 2. Adjacency Matrix "
   ]
  },
  {
   "cell_type": "markdown",
   "metadata": {},
   "source": [
    "    Cara lain untuk merepresentasikan graph G = {V, E} sebagai matriks boolean. Ukuran matrik adalah ordo VxV dimana V adalah jumlah vertex dalam graph. Baris direpresentasikan sebagai titik awal dan kolom sebagai titik tujuan. \n",
    "    Untuk Unweighted Graph maka Nilai A(i,j) adalah 1 atau 0 tergantung ada tidaknya garis (edge) yang menghubungkan dari titik i ke titik j. Bernilai 1 jika ada edge, dan 0 jika tidak ada edge antar titik tersebut. Weighted Graph, maka nilai matrik diisi dengan bobot dari edge A(i,j) = nilai bobot."
   ]
  },
  {
   "cell_type": "markdown",
   "metadata": {},
   "source": [
    "##### 1. Representasi matriks untuk Undirected Graph"
   ]
  },
  {
   "cell_type": "code",
   "execution_count": 7,
   "metadata": {},
   "outputs": [
    {
     "name": "stdout",
     "output_type": "stream",
     "text": [
      "   0    1    0    1 \n",
      "   1    0    0    1 \n",
      "   0    0    0    1 \n",
      "   1    1    1    0 \n"
     ]
    }
   ],
   "source": [
    "class Graph(object):\n",
    "    def __init__(self, size):\n",
    "        self.adjMatrix = []\n",
    "        for i in range(size):\n",
    "            self.adjMatrix.append([0 for i in range(size)])\n",
    "        self.size = size\n",
    "    \n",
    "    def addEdge(self, v1, v2):\n",
    "        if v1 == v2:\n",
    "            print(\"Same vertex %d and %d\" % (v1, v2))\n",
    "        self.adjMatrix[v1][v2] = 1\n",
    "        self.adjMatrix[v2][v1] = 1\n",
    "    \n",
    "    def removeEdge(self, v1, v2):\n",
    "        if self.adjMatrix[v1][v2] == 0:\n",
    "            print(\"No edge between %d and %d\" % (v1, v2))\n",
    "            return\n",
    "        self.adjMatrix[v1][v2] = 0\n",
    "        self.adjMatrix[v2][v1] = 0\n",
    "    \n",
    "    def containsEdge(self, v1, v2):\n",
    "        return True if self.adjMatrix[v1][v2] > 0 else False\n",
    "     \n",
    "    def __len__(self):\n",
    "        return self.size\n",
    "    \n",
    "    def toString(self):\n",
    "        for row in self.adjMatrix:\n",
    "            for val in row:\n",
    "                print('{:4}'.format(val), end = ' ')\n",
    "            print()\n",
    "def main():\n",
    "    g = Graph(4)\n",
    "    g.addEdge(0, 1);\n",
    "    g.addEdge(0, 3);\n",
    "    g.addEdge(1, 3);\n",
    "    g.addEdge(2, 3);\n",
    "    g.toString()\n",
    "if __name__ == '__main__':\n",
    "    main()"
   ]
  },
  {
   "cell_type": "markdown",
   "metadata": {},
   "source": [
    "### Traversal Graph"
   ]
  },
  {
   "cell_type": "markdown",
   "metadata": {},
   "source": [
    "    Mengunjungi setiap vertex/node secara sistematik. Traversal Graph digunakan untuk mencari jalur dalam suatu graph dari titik asal ke titik tujuan, mencari jalur terpendek antara dua node/vertex, menemukan semua jalur yang bisa dilalui dari titik asal ke titik tujuan. Implementasinya dalam python sebagai berikut menggunakan Adjacency List dengan dictionary."
   ]
  },
  {
   "cell_type": "markdown",
   "metadata": {},
   "source": [
    "graph = {‘a’: [‘b’, ‘d’]\n",
    "         ‘b’: [‘a’, ‘d’]\n",
    "         ‘c’: [‘d’]\n",
    "         ‘d’: [‘a’, ‘b’, ‘c’]}\n",
    "\n",
    "    Dictionary tersebut berisi semua node/simpul serta list tetangganya, dimana setiap key suatu simpul akan berkorespondensi dengan semua tetangganya yang terhubung dengan simpul key tersebut. Berikut ini adalah implementasi mencari jalur dari simpul asal ke simpul tujuan, jika ada jalur maka nilai yang dikembalikan adalah list path jika tidak ada jalur maka nilai yang dikembalikan none. Algoritma yang digunakan adalah backtracking, yaitu mencoba setiap kemungkinan secara bergantian sampai menemukan solusi."
   ]
  },
  {
   "cell_type": "code",
   "execution_count": 5,
   "metadata": {},
   "outputs": [
    {
     "name": "stdout",
     "output_type": "stream",
     "text": [
      "['a', 'b', 'd']\n"
     ]
    }
   ],
   "source": [
    "graph = {'a': ['b', 'd'],\n",
    "         'b': ['a', 'd'],\n",
    "         'c': ['d'],\n",
    "         'd': ['a', 'b', 'c']}\n",
    "\n",
    "def find_path(graph, start, end, path=[]):\n",
    "    \n",
    "    path = path + [start]\n",
    "        \n",
    "    for node in graph[start]:\n",
    "            if not node in path:\n",
    "                newpath = find_path(graph, node, end, path)\n",
    "                if newpath:\n",
    "                    return newpath\n",
    "        \n",
    "    if start == end:\n",
    "            return path\n",
    "        \n",
    "    if not start in graph:\n",
    "            return None\n",
    "        \n",
    "    return None\n",
    "\n",
    "print(find_path(graph, 'a', 'd'))\n",
    "\n"
   ]
  },
  {
   "cell_type": "markdown",
   "metadata": {},
   "source": [
    "Dengan menggunakan algoritma yang sama dilakukan untuk mendapatkan semua jalur dari suatu path."
   ]
  },
  {
   "cell_type": "code",
   "execution_count": null,
   "metadata": {},
   "outputs": [],
   "source": [
    "def all_path(graph, start, end, path=[]):\n",
    "    \n",
    "    path = path + [start]\n",
    "    \n",
    "    if start == end:\n",
    "        return [path]\n",
    "    \n",
    "    if not start in graph:\n",
    "        return []\n",
    "    \n",
    "    paths = []\n",
    "    \n",
    "    for node in graph[start]:\n",
    "        if not node in path:\n",
    "            newpaths = all_path(graph, node, end, path)\n",
    "            for newpath in newpaths:\n",
    "                paths.append(newpath)\n",
    "    \n",
    "    return paths"
   ]
  },
  {
   "cell_type": "markdown",
   "metadata": {},
   "source": [
    "    Sedangkan untuk mendapatkan jalur tercepat, maka dilakukan dengan membandingkan jumlah jalur yang dihasilkan dari semua path dan dipilih yang terkecil."
   ]
  },
  {
   "cell_type": "code",
   "execution_count": null,
   "metadata": {},
   "outputs": [],
   "source": [
    "def shortest_path(graph, start, end, path=[]): path = path + [start]\n",
    "    \n",
    "    if start == end:\n",
    "        return path\n",
    "    \n",
    "    if not start in graph:\n",
    "        return None\n",
    "    \n",
    "    shortest = None\n",
    "    \n",
    "    for node in graph[start]:\n",
    "    \n",
    "    if node not in path:\n",
    "        newpath = shortest_path(graph, node, end, path)\n",
    "        if newpath:\n",
    "            if not shortest or len(newpath) < len(shortest):\n",
    "                shortest = newpath\n",
    "    \n",
    "    return shortest"
   ]
  },
  {
   "cell_type": "markdown",
   "metadata": {},
   "source": [
    "##### Fungsi-fungsi tersebut masih sederhana, tentunya masih banyak variasi algoritma dalam graph seperti, yaitu Breadth First Search, Depth First Search, Minimum SpanningTree(MST) dll dan dengan representasi link list dan matriks yang belum terbahas disini."
   ]
  }
 ],
 "metadata": {
  "kernelspec": {
   "display_name": "Python 3",
   "language": "python",
   "name": "python3"
  },
  "language_info": {
   "codemirror_mode": {
    "name": "ipython",
    "version": 3
   },
   "file_extension": ".py",
   "mimetype": "text/x-python",
   "name": "python",
   "nbconvert_exporter": "python",
   "pygments_lexer": "ipython3",
   "version": "3.7.1"
  }
 },
 "nbformat": 4,
 "nbformat_minor": 2
}
