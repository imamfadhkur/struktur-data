{
 "cells": [
  {
   "cell_type": "markdown",
   "metadata": {},
   "source": [
    "# STACK, QUEUE, dan Infix prefix postfix"
   ]
  },
  {
   "cell_type": "markdown",
   "metadata": {},
   "source": [
    "### 1. STACK"
   ]
  },
  {
   "cell_type": "markdown",
   "metadata": {},
   "source": [
    "Tumpukan (stack) merupakan struktur data yang menerapkan konsep LIFO (Last In First Out) Artinya, data yang terakhir ditambahkan ke dalam stack akan berada di posisi terkahir (atau paling atas jika kita membayangkan elemen - elemen stack tersusun secara vertikal) dan ketika proses pengambilan, data terakhir tersebut akan diambil pertama kali.\n",
    "\n",
    "Pada class stack, kita mengimplementasikan metode-metode berikut :\n",
    "\n",
    "1. isEmpty() --> digunakan untuk memeriksa apakah stack kosong atau tidak.\n",
    "2. push() --> digunakan untuk menambah elemen baru ke dalam stack pada posisi terakhir.\n",
    "3. peek() --> digunakan untuk mendapatkan elemen yang terdapat pada posisi terkahir tanpa menghapus elemen tersebut.\n",
    "4. pop() --> digunakan untuk mengambil elemen terakhir dan menghapusnya dari dalam stack.\n",
    "5. size() --> mengembalikan jumlah item di dalam list. Tidak memerlukan parameter dan mengembalikan suatu integer.\n",
    "6. getAll() --> mengecek isi list Stack.\n",
    "\n",
    "Berikut implementasinya ke dalam bahasa pemrograman Python :"
   ]
  },
  {
   "cell_type": "code",
   "execution_count": null,
   "metadata": {},
   "outputs": [],
   "source": [
    "class Stack:\n",
    "  def __init__(self):\n",
    "    self.items = []\n",
    "\n",
    "  def isEmpty(self):\n",
    "    return self.items == []\n",
    "\n",
    "  def push(self,item):\n",
    "    self.items.append(item)\n",
    "\n",
    "  def pop(self):\n",
    "    return self.items.pop()\n",
    "\n",
    "  def peek(self):\n",
    "    return self.items[len(self.items)-1]\n",
    "\n",
    "  def size(self):\n",
    "    return len(self.items)\n",
    "\n",
    "  def getAll(self):\n",
    "        return self.items"
   ]
  },
  {
   "cell_type": "markdown",
   "metadata": {},
   "source": [
    "jika kita ingin menambahkan data pada class stack, maka tinggal memanggil class beserta fungsi nya. Misal kita ingin menambahkan data [4,3,2,6,6,5,45,5]. maka tinggal kita tambahkan satu persatu datanya pada class stack. Berikut dibawah adalah program untuk menambahkan serta menghapusnya."
   ]
  },
  {
   "cell_type": "code",
   "execution_count": null,
   "metadata": {},
   "outputs": [],
   "source": [
    "s = Stack()\n",
    "data = [4,3,2,6,6,5,45,5]\n",
    "for i in range(len(data)):   # loopingzn untuk menambahkan satu persatu data nya kedalam stack\n",
    "  s.push(data[i])     # fungsi untuk menambahkan data\n",
    "print(s.size())     # untuk mengecek berapa ukurannya\n",
    "print(s.isEmpty())      # untuk mengecek apakah kosong atau tidak\n",
    "while not s.isEmpty():     # loopingan untuk menghapus data didalam stack\n",
    "  print(s.pop())     # untuk menghapus\n",
    "  print(s.size())      # untuk melihat ukurannya"
   ]
  },
  {
   "cell_type": "markdown",
   "metadata": {},
   "source": [
    "### 2. QUEUE"
   ]
  },
  {
   "cell_type": "markdown",
   "metadata": {},
   "source": [
    "Antrian (queue) merupakan struktur data yang menerapkan konsep FIFO (First In First Out), berbanding terbalik dengan (stack) yang memiliki konsep LIFO, yaitu data yang masuk paling belakang akan keluar terlebih dahulu. Data atau elemen yang pertama ditambahkan ke dalam queue akan diambil pertama kali juga seperti pada ilusrasi di atas.\n",
    "\n",
    "Pada class queue, kita mengimplentasikan metode - metode berikut :\n",
    "\n",
    "1. isEmpty() --> digunakan untuk memeriksa apakah queue kosong atau tidak.\n",
    "2. enqueue() --> digunakan untuk menambah elemen baru ke dalam queue pada posisi terakhir.\n",
    "3. peek() --> digunakan untuk mendapatkan elemen yang terdapat pada posisi terkahir tanpa menghapus elemen tersebut.\n",
    "4. dequeue() --> digunakan untuk mengambil elemen terakhir dan menghapusnya dari dalam queue.\n",
    "5. size() --> mengembalikan jumlah item di dalam list. Tidak memerlukan parameter dan\n",
    "   mengembalikan suatu integer.\n",
    "6. getAll() --> mengecek isi list Queue.\n",
    "\n",
    "Berikut implementasinya ke dalam bahasa pemrograman Python :"
   ]
  },
  {
   "cell_type": "code",
   "execution_count": null,
   "metadata": {},
   "outputs": [],
   "source": [
    "class queue:\n",
    "  def __init__(self):\n",
    "    self.items = []\n",
    "\n",
    "  def isEmpty(self):\n",
    "    return self.items == []\n",
    "\n",
    "  def enqueue(self,item):\n",
    "    self.items.insert(0,item)\n",
    "\n",
    "  def dequeue(self):\n",
    "    return self.items.pop()\n",
    "\n",
    "  def peek(self):\n",
    "    return self.items[len(self.items)-1]\n",
    "\n",
    "  def size(self):\n",
    "    return len(self.items)\n",
    "\n",
    "  def getAll(self):\n",
    "        return self.items"
   ]
  },
  {
   "cell_type": "markdown",
   "metadata": {},
   "source": [
    "pengimplementasiannya dalam program seperti berikut ini. kita akan menambahkan data ['asa','3','tunggal','1','7'] pada class dan code untuk menampilkannya. "
   ]
  },
  {
   "cell_type": "code",
   "execution_count": null,
   "metadata": {},
   "outputs": [],
   "source": [
    "q = queue()\n",
    "q.enqueue('asa')\n",
    "q.enqueue('3')\n",
    "q.enqueue('tunggal')\n",
    "q.enqueue('1')\n",
    "q.enqueue('7')\n",
    "print(q.size())   # untuk menampilkan berapa ukuran data.\n",
    "print(q.getAll())    # code untuk menampilkan semua data.\n"
   ]
  },
  {
   "cell_type": "markdown",
   "metadata": {},
   "source": [
    "### 3. Infix, Prefix dan Postfix"
   ]
  },
  {
   "cell_type": "markdown",
   "metadata": {},
   "source": [
    "#### A. Infix\n",
    "    Infix adalah cara penulisan atau ungkapan yang meletakan operator di tengah antara 2 operand dalam hal ini dalam kurung sangat menentukan posisi.\n",
    "Contoh Infix :\n",
    "1. A + B * C + D\n",
    "2. (A + B) * (C + D)\n",
    "\n",
    "#### B. Prefix\n",
    "    Prefix adalah cara penulisan atau ungkapan yang meletakan operator disebelah kiri 2 operand dan dalam kurung sangat menentukan posisi.\n",
    "Contoh Prefix :\n",
    "1. + + A * B C D\n",
    "2. * + A B + C D\n",
    "\n",
    "#### C. Postfix\n",
    "    Posfix adalah cara penulisan yang meletakan operator disebelah kanan 2 operand dan posisi operand yang berada di dalam kurung sangat menentukan.\n",
    "Contoh Postfix :\n",
    "1. A B C * + D +\n",
    "2. A B + C D + *"
   ]
  },
  {
   "cell_type": "markdown",
   "metadata": {},
   "source": [
    "Sejauh ini, kami telah menggunakan metode ad hoc untuk mengkonversi antara ekspresi infiks dan awalan setara dan notasi ekspresi postfix. Seperti yang mungkin diharapkan, ada cara algoritmik untuk melakukan konversi yang memungkinkan ekspresi kompleksitas apa pun diubah dengan benar.\n",
    "\n",
    "Teknik pertama yang akan kami pertimbangkan menggunakan gagasan ekspresi yang ditulis dalam tanda kurung penuh yang telah dibahas sebelumnya. Ingatlah bahwa A + B * C dapat ditulis sebagai (A + (B * C)) untuk menunjukkan secara eksplisit bahwa penggandaan lebih diutamakan daripada penambahan. Namun, jika diamati lebih dekat, Anda dapat melihat bahwa setiap pasangan kurung juga menunjukkan awal dan akhir dari pasangan operan dengan operator terkait di tengah.\n",
    "\n",
    "Lihatlah tanda kurung yang tepat dalam subekspresi (B * C) di atas. Jika kita memindahkan simbol perkalian ke posisi itu dan menghapus tanda kurung kiri yang cocok, memberi kita B C *, kita sebenarnya telah mengubah subekspresi menjadi notasi postfix. Jika operator tambahan juga dipindahkan ke posisi tanda kurung kanan yang sesuai dan tanda kurung kiri yang cocok dihapus, ekspresi postfix lengkap akan dihasilkan"
   ]
  },
  {
   "cell_type": "markdown",
   "metadata": {},
   "source": [
    "##### Konversi Infix-ke-Postfix Umum\n",
    "    Asumsikan ekspresi infiks adalah string token yang dibatasi oleh spasi. Token operator adalah *, /, +, dan -, bersama dengan tanda kurung kiri dan kanan, (dan). Token operan adalah pengidentifikasi satu karakter A, B, C, dan sebagainya. Langkah-langkah berikut akan menghasilkan serangkaian token dalam urutan postfix."
   ]
  },
  {
   "cell_type": "markdown",
   "metadata": {},
   "source": [
    "1. Buat tumpukan kosong yang disebut opstack untuk menjaga operator. Buat daftar kosong untuk keluaran.\n",
    "2. Konversi input string infiks ke daftar dengan menggunakan metode split string.\n",
    "3. Pindai daftar token dari kiri ke kanan.\n",
    "    1. Jika token adalah operan, tambahkan ke akhir daftar output.\n",
    "    2. Jika token adalah tanda kurung kiri, dorong pada opstack.\n",
    "    3. Jika token adalah tanda kurung kanan, pop opstack sampai tanda kurung kiri dihapus. Tambahkan setiap operator ke akhir daftar output.\n",
    "    4. Jika token adalah operator, *, /, +, atau -, dorong pada opstack. Namun, pertama-tama hapus semua operator yang sudah berada di opstack yang memiliki prioritas lebih tinggi atau sama dan tambahkan mereka ke daftar output.\n",
    "4. Ketika ekspresi input telah sepenuhnya diproses, periksa opstack. Setiap operator yang masih berada di stack dapat dihapus dan ditambahkan ke akhir daftar output.\n"
   ]
  },
  {
   "cell_type": "code",
   "execution_count": 2,
   "metadata": {},
   "outputs": [
    {
     "name": "stdout",
     "output_type": "stream",
     "text": [
      "A B * C D * +\n",
      "A B + C * D E - F G + * -\n"
     ]
    }
   ],
   "source": [
    "class Stack:\n",
    "  def __init__(self):\n",
    "    self.items = []\n",
    "\n",
    "  def isEmpty(self):\n",
    "    return self.items == []\n",
    "\n",
    "  def push(self,item):\n",
    "    self.items.append(item)\n",
    "\n",
    "  def pop(self):\n",
    "    return self.items.pop()\n",
    "\n",
    "  def peek(self):\n",
    "    return self.items[len(self.items)-1]\n",
    "\n",
    "  def size(self):\n",
    "    return len(self.items)\n",
    "\n",
    "  def getAll(self):\n",
    "        return self.items\n",
    "    \n",
    "def infixToPostfix(infixexpr):\n",
    "    prec = {}\n",
    "    prec[\"*\"] = 3\n",
    "    prec[\"/\"] = 3\n",
    "    prec[\"+\"] = 2\n",
    "    prec[\"-\"] = 2\n",
    "    prec[\"(\"] = 1\n",
    "    opStack = Stack()\n",
    "    postfixList = []\n",
    "    tokenList = infixexpr.split()\n",
    "\n",
    "    for token in tokenList:\n",
    "        if token in \"ABCDEFGHIJKLMNOPQRSTUVWXYZ\" or token in \"0123456789\":\n",
    "            postfixList.append(token)\n",
    "        elif token == '(':\n",
    "            opStack.push(token)\n",
    "        elif token == ')':\n",
    "            topToken = opStack.pop()\n",
    "            while topToken != '(':\n",
    "                postfixList.append(topToken)\n",
    "                topToken = opStack.pop()\n",
    "        else:\n",
    "            while (not opStack.isEmpty()) and \\\n",
    "               (prec[opStack.peek()] >= prec[token]):\n",
    "                  postfixList.append(opStack.pop())\n",
    "            opStack.push(token)\n",
    "\n",
    "    while not opStack.isEmpty():\n",
    "        postfixList.append(opStack.pop())\n",
    "    return \" \".join(postfixList)\n",
    "\n",
    "print(infixToPostfix(\"A * B + C * D\"))\n",
    "print(infixToPostfix(\"( A + B ) * C - ( D - E ) * ( F + G )\"))\n"
   ]
  },
  {
   "cell_type": "code",
   "execution_count": null,
   "metadata": {},
   "outputs": [],
   "source": []
  }
 ],
 "metadata": {
  "kernelspec": {
   "display_name": "Python 3",
   "language": "python",
   "name": "python3"
  },
  "language_info": {
   "codemirror_mode": {
    "name": "ipython",
    "version": 3
   },
   "file_extension": ".py",
   "mimetype": "text/x-python",
   "name": "python",
   "nbconvert_exporter": "python",
   "pygments_lexer": "ipython3",
   "version": "3.7.1"
  }
 },
 "nbformat": 4,
 "nbformat_minor": 2
}
