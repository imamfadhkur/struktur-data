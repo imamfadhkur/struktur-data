{
 "cells": [
  {
   "cell_type": "markdown",
   "metadata": {},
   "source": [
    "Tumpukan (stack) merupakan struktur data yang menerapkan konsep LIFO (Last In First Out) Artinya, data yang terakhir ditambahkan ke dalam stack akan berada di posisi terkahir (atau paling atas jika kita membayangkan elemen - elemen stack tersusun secara vertikal) dan ketika proses pengambilan, data terakhir tersebut akan diambil pertama kali.\n",
    "\n",
    "Pada kelas di atas, kita mengimplementasikan metode-metode berikut :\n",
    "\n",
    "1. isempty(), digunakan untuk memeriksa apakah stack kosong atau tidak.\n",
    "2. __len__(), metode ini perlu diimplementasikan agar objek dari kelas stack dapat dihitung\n",
    "    jumlah elemennya menggunakan metode len().\n",
    "3. push(), digunakan untuk menambah elemen baru ke dalam stack pada posisi terakhir.\n",
    "4. peek(), digunakan untuk mendapatkan elemen yang terdapat pada posisi terkahir tanpa\n",
    "    menghapus elemen tersebut.\n",
    "5. pop(), digunakan untuk mengambil elemen terakhir dan menghapusnya dari dalam stack.\n",
    "6. size(), mengembalikan jumlah item di dalam list. Tidak memerlukan parameter dan\n",
    "    mengembalikan suatu integer.\n",
    "\n",
    "Setelah kalian sudah paham, kalian dapat mengembangkan kelas stack di atas untuk menambah kemampuan - kemampuan lain yang diperlukan, seperti penambahan kapasitas elemen di dalam list, pencarian elemen list di dalam list, dan sebagainya. Jika sudah kalian mencobam jangan lupa sharekan link mu di kotak komentar di bawah ya 😁. Sekarang  langsung saja implementasinya ke dalam Phyton :"
   ]
  },
  {
   "cell_type": "code",
   "execution_count": 1,
   "metadata": {},
   "outputs": [
    {
     "name": "stdout",
     "output_type": "stream",
     "text": [
      "<bound method Stack.isEmpty of <__main__.Stack object at 0x00000217D63E2A58>>\n",
      "True\n",
      "True\n",
      "hello\n"
     ]
    }
   ],
   "source": [
    "class Stack:\n",
    "  def __init__(self):\n",
    "    self.items = []\n",
    "\n",
    "  def isEmpty(self):\n",
    "    return self.items == []\n",
    "\n",
    "  def push(self,item):\n",
    "    self.items.append(item)\n",
    "\n",
    "  def pop(self):\n",
    "    return self.items.pop()\n",
    "\n",
    "  def peek(self):\n",
    "    return self.items[len(self.items)-1]\n",
    "\n",
    "  def size(self):\n",
    "    return len(self.items)\n",
    "\n",
    "s = Stack()\n",
    "s.push('hello')\n",
    "s.push('True')\n",
    "print(s.isEmpty)\n",
    "print(s.peek())\n",
    "while not s.isEmpty():\n",
    "  print(s.pop())\n"
   ]
  },
  {
   "cell_type": "code",
   "execution_count": null,
   "metadata": {},
   "outputs": [],
   "source": []
  }
 ],
 "metadata": {
  "kernelspec": {
   "display_name": "Python 3",
   "language": "python",
   "name": "python3"
  },
  "language_info": {
   "codemirror_mode": {
    "name": "ipython",
    "version": 3
   },
   "file_extension": ".py",
   "mimetype": "text/x-python",
   "name": "python",
   "nbconvert_exporter": "python",
   "pygments_lexer": "ipython3",
   "version": "3.7.1"
  }
 },
 "nbformat": 4,
 "nbformat_minor": 2
}
