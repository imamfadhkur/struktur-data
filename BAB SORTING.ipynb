{
 "cells": [
  {
   "cell_type": "code",
   "execution_count": null,
   "metadata": {},
   "outputs": [],
   "source": [
    "BAB SORTING\n",
    "    a. Bubble Sort\n",
    "            Algoritma Bubble Sort ini merupakan proses pengurutan yang secara berangsur-angsur berpindah ke posisi yang tepat karena itulah dinamakan Bubble yang artinya gelembung. Algoritma ini akan mengurutkan data dari yang terbesar ke yang terkecil (ascending) atau sebaliknya (descending). Secara sederhana, bisa didefenisikan algoritma Bubble Sort adalah pengurutan dengan cara pertukaran data dengan data disebelahnya secara terus menerus sampai dalam satu iterasi tertentu tidak ada lagi perubahan."
   ]
  },
  {
   "cell_type": "code",
   "execution_count": 1,
   "metadata": {},
   "outputs": [
    {
     "name": "stdout",
     "output_type": "stream",
     "text": [
      "--- bubble sort ---\n",
      "[5, 0, 1, 10, 7, 2, 5, 4, 6, 9]\n",
      "\n",
      "diurutkan menjadi-->\n",
      "\n",
      "[0, 1, 2, 4, 5, 5, 6, 7, 9, 10]\n",
      "iterasi = 82\n"
     ]
    }
   ],
   "source": [
    "print('--- bubble sort ---')\n",
    "lst = [5,0,1,10,7,2,5,4,6,9]\n",
    "print(lst)\n",
    "iterasi = 1\n",
    "for k in range(1,len(lst)):\n",
    "    for i in range(0,len(lst)-1):\n",
    "        if lst[i]>lst[i+1]:\n",
    "            lst[i],lst[i+1] = lst[i+1],lst[i]\n",
    "        iterasi += 1\n",
    "print('\\ndiurutkan menjadi-->\\n')\n",
    "print(lst)\n",
    "\n",
    "print('iterasi =',iterasi)\n"
   ]
  },
  {
   "cell_type": "code",
   "execution_count": null,
   "metadata": {},
   "outputs": [],
   "source": [
    "    b. Selection Sort\n",
    "            Selection Sort adalah salah satu algoritma pengurutan data dari kecil ke besar (ascending) atau dari besar ke kecil (descending) dengan cara mencatat data yang terkecil/terbesar. Setelah data tecatat, data tersebut dipindahkan ke paling kanan/paling kiri. Selection Sort merupakan perkembangan dari Bubble Sort, akan tetapi lebih efisien, karena jika data pada Selection Sort sudah terurut maka perulangan akan berhenti. Sedangkan dengan Bubble Sort, perulangan akan berhenti sampai jumlah data pada list.\n",
    "        \n",
    "        ilustrasinya:\n",
    "        8 5 7 1 9 3      # (1) menjadi nilai terkecil yang akan dipindahkan \n",
    "        1 5 7 8 9 3      # (3) menjadi nilai terkecil yang akan dipindahkan\n",
    "        1 3 7 8 9 5      # (5) menjadi nilai terkecil yang akan dipindahkan\n",
    "        1 3 5 8 9 7      # (7) menjadi nilai terkecil yang akan dipindahkan\n",
    "        1 3 5 7 9 8      # (8) menjadi nilai terkecil yang akan dipindahkan\n",
    "        1 3 5 7 8 9      # (9) menjadi nilai terkecil yang akan dipindahkan"
   ]
  },
  {
   "cell_type": "code",
   "execution_count": 2,
   "metadata": {},
   "outputs": [
    {
     "name": "stdout",
     "output_type": "stream",
     "text": [
      "--- selection sort ---\n",
      "[5, 0, 1, 10, 7, 2, 5, 4, 6, 9]\n",
      "\n",
      "diurutkan menjadi -->\n",
      "\n",
      "[0, 1, 2, 4, 5, 5, 6, 7, 9, 10]\n",
      "iterasi = 46\n"
     ]
    }
   ],
   "source": [
    "print('--- selection sort ---')\n",
    "lst = [5,0,1,10,7,2,5,4,6,9]\n",
    "print(lst)\n",
    "iterasi = 1\n",
    "for i in range(0,len(lst)-1):\n",
    "    min=i\n",
    "    for j in range(i+1,len(lst)):\n",
    "        if lst[j]<lst[min]:\n",
    "            min = j\n",
    "        iterasi += 1\n",
    "    lst[i],lst[min]=lst[min],lst[i]\n",
    "print('\\ndiurutkan menjadi -->\\n')\n",
    "print(lst)\n",
    "print('iterasi =',iterasi)\n"
   ]
  },
  {
   "cell_type": "code",
   "execution_count": null,
   "metadata": {},
   "outputs": [],
   "source": [
    "    c. Insertion Sort\n",
    "        Prinsip dari algoritma selection sort adalah memilih elemen dengan nilai paling rendah dan menukar elemen tersebut dengan elemen ke-i. Nilai dari i dimulai dari 1 ke n, dimana n adalah jumlah total elemen dikurangi 1.\n",
    "\n",
    "    Langkahnya seperti di bawah ini :\n",
    "Pengecekan dimulai dari data ke-1 sampai dengan data ke n.\n",
    "    1. Tentukan bilangan dengan index terkecil dari data bilangan tersebut.\n",
    "    2. Tukar bilangan dengan index terkecil tersebut dengan bilangan pertama (i=1) dari data bilangan tersebut.\n",
    "    3. Lakukan langkah 2 dan 3 untuk bilangan berikutnya (i=i+1) sampai di dapatkan data yang sesuai."
   ]
  },
  {
   "cell_type": "code",
   "execution_count": 3,
   "metadata": {},
   "outputs": [
    {
     "name": "stdout",
     "output_type": "stream",
     "text": [
      "--- insertion Sort ---\n",
      "\n",
      "data = [5, 0, 1, 10, 7, 2, 5, 4, 6, 9]\n",
      "\n",
      "data diurutkan menjadi -->\n",
      "\n",
      "data = [0, 1, 2, 4, 5, 5, 6, 7, 9, 10]\n",
      "iterasi = 10\n"
     ]
    }
   ],
   "source": [
    "print('--- insertion Sort ---')\n",
    "lst = [5,0,1,10,7,2,5,4,6,9]\n",
    "print('\\ndata =',lst)\n",
    "iterasi = 1\n",
    "for i in range(1,len(lst)):\n",
    "    nilaiawal = lst[ i]\n",
    "    hole = i\n",
    "    while lst[hole-1] > nilaiawal and hole > 0   :\n",
    "        lst[hole] = lst[hole-1]\n",
    "        hole=hole-1\n",
    "    iterasi += 1\n",
    "    lst[hole] = nilaiawal\n",
    "print('\\ndata diurutkan menjadi -->\\n')\n",
    "print('data =',lst)\n",
    "print('iterasi =',iterasi)\n"
   ]
  },
  {
   "cell_type": "code",
   "execution_count": null,
   "metadata": {},
   "outputs": [],
   "source": [
    "    d. Quick Sort\n",
    "        Quick Sort adalah salah satu algoritma pengurutan data yang paling cepat, yaitu dengan membagi list menggunakan sebuah pivot. Quick Sort juga menggunakan rekursif dalam algoritmanya. Misalnya jika pengurutannya secara ascending, data yang kurang dari pivot sudah ditentukan ditaruh disebelah kirinya pivot sedangkan data yang lebih besar dari pivot maka ditaruh disebelah kanan pivot. Setelah dipisah, bagian-bagian yang sudah dipisah melakukan pembagian seperti sebelumnya karena ini sehingga Quick Sort menggunakan rekursif. Begitu seterusnya sampai data terurut. "
   ]
  },
  {
   "cell_type": "code",
   "execution_count": 4,
   "metadata": {},
   "outputs": [
    {
     "name": "stdout",
     "output_type": "stream",
     "text": [
      "--- Quick sort ---\n",
      "\n",
      "before = [5, 0, 1, 10, 7, 2, 5, 4, 6, 9]\n",
      "\n",
      "data diurutkan menjadi -->\n",
      "\n",
      "after = [0, 1, 2, 4, 5, 5, 6, 7, 9, 10]\n"
     ]
    }
   ],
   "source": [
    "print('--- Quick sort ---')\n",
    "def QuickSortAwal(A):\n",
    "    QuickSort(A,0,len(A)-1)\n",
    "\n",
    "def QuickSort(A,start,end):\n",
    "    if start<end:\n",
    "        pIndex = Partition(A,start,end)\n",
    "        QuickSort (A,start,pIndex-1)\n",
    "        QuickSort (A,pIndex+1,end)\n",
    "\n",
    "def Partition(A,start,end):\n",
    "    pivot = A[end]\n",
    "    pIndex = start\n",
    "    for i in range(start,end):\n",
    "        if (A[i] <= pivot):\n",
    "            A[i],A[pIndex]=A[pIndex],A[i]\n",
    "            pIndex=pIndex+1\n",
    "    A[pIndex],A[end]=A[end],A[pIndex]\n",
    "    return pIndex\n",
    "A=[5,0,1,10,7,2,5,4,6,9]\n",
    "print('\\nbefore =',A)\n",
    "QuickSortAwal(A)\n",
    "print('\\ndata diurutkan menjadi -->\\n')\n",
    "print('after =',A)\n"
   ]
  },
  {
   "cell_type": "code",
   "execution_count": null,
   "metadata": {},
   "outputs": [],
   "source": [
    "    e. Merge Sort\n",
    "        Merge sort adalah algoritma Divide and Conquer. Ini membagi array input dalam dua bagian, memanggil dirinya untuk dua bagian tersebut dan kemudian menggabungkan dua bagian yang telah diurutkan. Merge() function digunakan untuk menggabungkan dua bagian."
   ]
  },
  {
   "cell_type": "code",
   "execution_count": 5,
   "metadata": {},
   "outputs": [
    {
     "name": "stdout",
     "output_type": "stream",
     "text": [
      "--- merge sort ---\n",
      "\n",
      "before = [54, 26, 93, 17, 99, 77, 31, 44, 55, 20, 100]\n",
      "\n",
      "diurutkan menjadi -->\n",
      "\n",
      "after = [17, 20, 26, 31, 44, 54, 55, 77, 93, 99, 100]\n"
     ]
    }
   ],
   "source": [
    "print('--- merge sort ---')\n",
    "def MergedSort(A):\n",
    "    n = len(A)\n",
    "    if (n<2):\n",
    "       return\n",
    "    mid = len(A)//2\n",
    "    left = A[:mid]\n",
    "    right = A[mid:]\n",
    "    MergedSort(left)\n",
    "    MergedSort(right)\n",
    "    i=0\n",
    "    j=0\n",
    "    k=0\n",
    "    while i < len(left) and j < len(right):\n",
    "        if left[i] < right[j]:\n",
    "            A[k]=left[i]\n",
    "            i=i+1\n",
    "        else:\n",
    "            A[k]=right[j]\n",
    "            j=j+1\n",
    "        k=k+1\n",
    "\n",
    "    while i < len(left):\n",
    "        A[k]=left[i]\n",
    "        i=i+1\n",
    "        k=k+1\n",
    "\n",
    "    while j < len(right):\n",
    "        A[k]=right[j]\n",
    "        j=j+1\n",
    "        k=k+1\n",
    "\n",
    "Alist= [54,26,93,17,99,77,31,44,55,20,100]\n",
    "print('\\nbefore =',Alist)\n",
    "MergedSort(Alist)\n",
    "print('\\ndiurutkan menjadi -->\\n')\n",
    "print('after =',Alist)\n"
   ]
  },
  {
   "cell_type": "code",
   "execution_count": null,
   "metadata": {},
   "outputs": [],
   "source": [
    "    f. Sell Sort\n",
    "        Ini dapat dilihat sebagai generalisasi pengurutan berdasarkan pertukaran (bubble sort) atau pengurutan berdasarkan penyisipan (insertion sort). Metode ini dimulai dengan menyortir pasangan elemen yang berjauhan satu sama lain, kemudian secara progresif mengurangi kesenjangan antar elemen yang akan dibandingkan. Dimulai dengan elemen berjauhan, ia dapat memindahkan beberapa elemen out-of-place ke posisi lebih cepat dari pertukaran tetangga terdekat yang sederhana."
   ]
  },
  {
   "cell_type": "code",
   "execution_count": 6,
   "metadata": {},
   "outputs": [
    {
     "name": "stdout",
     "output_type": "stream",
     "text": [
      "--- shell sort ---\n",
      "\n",
      "before = [35, 33, 42, 10, 14, 19, 27, 44]\n",
      "\n",
      "diurutkan menjadi -->\n",
      "\n",
      "after = [10, 14, 19, 27, 33, 35, 42, 44]\n"
     ]
    }
   ],
   "source": [
    "print('--- shell sort ---')\n",
    "def shellSort(alist):\n",
    "    sublistcount = len(alist)//2\n",
    "    while sublistcount > 0:\n",
    "\n",
    "      for startposition in range(sublistcount):\n",
    "        gapInsertionSort(alist,startposition,sublistcount)\n",
    "      sublistcount = sublistcount // 2\n",
    "\n",
    "def gapInsertionSort(alist,start,gap):\n",
    "    for i in range(start+gap,len(alist),gap):\n",
    "\n",
    "        currentvalue = alist[i]\n",
    "        position = i\n",
    "\n",
    "        while position>=gap and alist[position-gap]>currentvalue:\n",
    "            alist[position]=alist[position-gap]\n",
    "            position = position-gap\n",
    "\n",
    "        alist[position]=currentvalue\n",
    "\n",
    "\n",
    "alist = [35,33,42,10,14,19,27,44]\n",
    "print('\\nbefore =',alist)\n",
    "shellSort(alist)\n",
    "print('\\ndiurutkan menjadi -->\\n')\n",
    "print('after =',alist)\n",
    "\n"
   ]
  },
  {
   "cell_type": "code",
   "execution_count": null,
   "metadata": {},
   "outputs": [],
   "source": []
  }
 ],
 "metadata": {
  "kernelspec": {
   "display_name": "Python 3",
   "language": "python",
   "name": "python3"
  },
  "language_info": {
   "codemirror_mode": {
    "name": "ipython",
    "version": 3
   },
   "file_extension": ".py",
   "mimetype": "text/x-python",
   "name": "python",
   "nbconvert_exporter": "python",
   "pygments_lexer": "ipython3",
   "version": "3.7.1"
  }
 },
 "nbformat": 4,
 "nbformat_minor": 2
}
