{
 "cells": [
  {
   "cell_type": "markdown",
   "metadata": {},
   "source": [
    "# BAB SEARCHING \n",
    "   ## a. Linear Search\n",
    "        Linear search adalah metode untuk menemukan nilai target dalam daftar secara berurutan, memeriksa setiap elemen dari daftar untuk nilai target sampai kecocokan ditemukan atau sampai semua elemen telah dicari. Jika algoritma mencapai akhir daftar, pencarian berakhir dan nilai yang dicari tidak ditemukan."
   ]
  },
  {
   "cell_type": "code",
   "execution_count": 1,
   "metadata": {},
   "outputs": [
    {
     "name": "stdout",
     "output_type": "stream",
     "text": [
      "angka yang dicari 3\n",
      "ditemukan pada index ke 2\n"
     ]
    }
   ],
   "source": [
    "#dibawah ini adalah contoh linear search dari belakang\n",
    "search = 3\n",
    "mylist = [1,2,3,4,5,6]\n",
    "position = len(mylist) - 1\n",
    "last = 0\n",
    "found = False\n",
    "while position >= last and not found:  #looping dari indeks terakhir menuju ke awal\n",
    "  if mylist[position] == search:\n",
    "    found = True\n",
    "  else:\n",
    "    position = position - 1\n",
    "\n",
    "print(\"angka yang dicari\",search)\n",
    "if found:\n",
    "  print('ditemukan pada index ke',position)\n",
    "else:\n",
    "  print(\"angka tidak ditemukan\")"
   ]
  },
  {
   "cell_type": "code",
   "execution_count": 2,
   "metadata": {},
   "outputs": [
    {
     "name": "stdout",
     "output_type": "stream",
     "text": [
      "angka yang dicari 4\n",
      "ditemukan pada index ke 3\n"
     ]
    }
   ],
   "source": [
    "#dibawah ini adalah contoh linear search dari depan\n",
    "search = 4\n",
    "mylist = [1,2,3,4,5,6]\n",
    "position = 0\n",
    "last = len(mylist)\n",
    "found = False\n",
    "while position <= last and not found:     #looping dari indeks awal menuju ke akhir\n",
    "  if mylist[position] == search:\n",
    "    found = True\n",
    "  else:\n",
    "    position = position + 1\n",
    "\n",
    "print(\"angka yang dicari\",search)\n",
    "if found:\n",
    "  print('ditemukan pada index ke',position)\n",
    "else:\n",
    "  print(\"angka tidak ditemukan\")"
   ]
  },
  {
   "cell_type": "code",
   "execution_count": 3,
   "metadata": {},
   "outputs": [
    {
     "name": "stdout",
     "output_type": "stream",
     "text": [
      "mylist = [1, 2, 3, 4, 5, 6]\n",
      "Masukkan angka yg ingin dicari = 1\n",
      "1 angka ditemukan, berada pada index 0\n"
     ]
    }
   ],
   "source": [
    "#dibawah ini adalah contoh linear search dengan function\n",
    "def search(x,mylist):\n",
    "  position = 0\n",
    "  last = len(mylist)-1\n",
    "  found = False\n",
    "  while position <= last and not found:\n",
    "    if mylist[position] == x:\n",
    "      found = True\n",
    "    else:\n",
    "      position = position + 1\n",
    "  if found:\n",
    "    print(x,\"angka ditemukan, berada pada index\",position)\n",
    "  else:\n",
    "    print(\"angka tidak ditemukan\")\n",
    "mylist = [1,2,3,4,5,6]\n",
    "print('mylist =',mylist)\n",
    "x =int(input(\"Masukkan angka yg ingin dicari = \"))\n",
    "search(x,mylist)"
   ]
  },
  {
   "cell_type": "markdown",
   "metadata": {},
   "source": [
    "  ##  b. Binary Search\n",
    "        metode binary search hanya digunakan untuk pencarian data pada array yang sudah terurut.\n",
    "    proses yang terjadi pada pencarian dengan metode ini adalah sebagai berikut:\n",
    "        1. membaca data array.\n",
    "        2. apabila array belum terurut, diurutkan terlebih dahulu.\n",
    "        3. menentukan data yang akan dicari.\n",
    "        4. menentukan element tengah dari array.\n",
    "        5. jika nilai element tengah sama dengan data yang dicari, maka proses pencarian selesai.\n",
    "        6. jika nilai elemen tengah tidak sama dengan data yang dicari, maka:\n",
    "            1. jika nilai elemen tengah lebih besar daripada data yang dicari,\n",
    "               maka pencarian dilakukan pada setengah array pertama.\n",
    "            2. jika nilai elemen tengah lebih kecil daripada data yang dicari,\n",
    "               maka pencarian dilakukan pada setengah array berikutnya."
   ]
  },
  {
   "cell_type": "code",
   "execution_count": 5,
   "metadata": {},
   "outputs": [
    {
     "name": "stdout",
     "output_type": "stream",
     "text": [
      "binary search\n",
      "\n",
      "mylist = [4,2,1,23,5,3,4,56,3,5,4,67,56,53,3,45,8,6,7,77,12]\n",
      "diurutkan menjadi\n",
      "[1, 2, 3, 3, 3, 4, 4, 4, 5, 5, 6, 7, 8, 12, 23, 45, 53, 56, 56, 67, 77]\n",
      "angka yang dicari 8\n",
      "angka yang dicari ditemukan pada index ke 12\n",
      "iterasi = 4\n"
     ]
    }
   ],
   "source": [
    "# #dibawah ini adalah contoh binary search, dengan midle sebagai patokan untuk pembanding nilai yanng dicari\n",
    "print(\"binary search\\n\")\n",
    "search = 8\n",
    "mylist = [4,2,1,23,5,3,4,56,3,5,4,67,56,53,3,45,8,6,7,77,12]\n",
    "print(\"mylist = [4,2,1,23,5,3,4,56,3,5,4,67,56,53,3,45,8,6,7,77,12]\")\n",
    "mylist.sort()\n",
    "print(\"diurutkan menjadi\")\n",
    "print(mylist)\n",
    "position = 0\n",
    "first = 0\n",
    "last = len(mylist)-1\n",
    "iterasi = 1\n",
    "found = False\n",
    "while first <= last and not found:\n",
    "  mid = (first + last)//2\n",
    "  if mylist[mid] == search:\n",
    "    found = True\n",
    "  else:\n",
    "    if search < mylist[mid]:\n",
    "      last = mid\n",
    "    else:\n",
    "      first = mid\n",
    "  iterasi = iterasi + 1\n",
    "print('angka yang dicari',search)\n",
    "if found:\n",
    "  print(\"angka yang dicari ditemukan pada index ke\", mid)\n",
    "  print(\"iterasi =\",iterasi)\n",
    "else:\n",
    "  print(\"angka tidak ditemukan\")\n",
    "  print(\"iterasi =\",iterasi)"
   ]
  },
  {
   "cell_type": "code",
   "execution_count": null,
   "metadata": {},
   "outputs": [],
   "source": []
  }
 ],
 "metadata": {
  "kernelspec": {
   "display_name": "Python 3",
   "language": "python",
   "name": "python3"
  },
  "language_info": {
   "codemirror_mode": {
    "name": "ipython",
    "version": 3
   },
   "file_extension": ".py",
   "mimetype": "text/x-python",
   "name": "python",
   "nbconvert_exporter": "python",
   "pygments_lexer": "ipython3",
   "version": "3.7.1"
  }
 },
 "nbformat": 4,
 "nbformat_minor": 2
}
