{
 "cells": [
  {
   "cell_type": "markdown",
   "metadata": {},
   "source": [
    "# Tree"
   ]
  },
  {
   "cell_type": "markdown",
   "metadata": {},
   "source": [
    "Tree(pohon) memiliki root(akar), branches(cabang), dan leaves(daun).\n",
    "Perbedaan antara pohon di alam dan pohon dalam ilmu komputer adalah bahwa struktur data pohon memiliki akarnya di atas dan daunnya di bawah."
   ]
  },
  {
   "cell_type": "markdown",
   "metadata": {},
   "source": [
    "## istilah-istilah dalam Tree"
   ]
  },
  {
   "cell_type": "markdown",
   "metadata": {},
   "source": [
    "1. Node\n\n",
    "Node adalah bagian mendasar dari pohon.\n",
    "2. Edge\n",
    "Edge menghubungkan dua node untuk menunjukkan bahwa ada hubungan di antara mereka. Setiap node (kecuali root) terhubung dengan tepat satu tepi yang masuk dari node lain.\n",
    "3. Root\n",
    "Akar pohon adalah satu-satunya simpul di pohon yang tidak memiliki tepi masuk.\n",
    "4. Path\n",
    "Path adalah daftar node yang diurutkan yang terhubung dengan edge. Sebagai contoh, Mamalia → → Carnivora → → Felidae → → Felis → → Domestica adalah sebuah jalan.\n",
    "5. Children\n",
    "Himpunan node yang memiliki tepi masuk dari simpul yang sama dikatakan anak-anak dari simpul itu.\n",
    "6. parent\n",
    "Node adalah induk dari semua node yang terhubung dengan tepi keluar.\n",
    "Node di pohon yang merupakan anak-anak dari orang tua yang sama dikatakan saudara. Node etc / dan usr / adalah saudara kandung di pohon sistem file.\n",
    "7. Subtree\n",
    "Subtree adalah seperangkat node dan tepi yang terdiri dari induk dan semua turunan dari induk itu.\n",
    "8. Leaf Node\n",
    "Node daun adalah simpul yang tidak memiliki anak. Sebagai contoh, Manusia dan Simpanse adalah simpul daun pada Gambar 1.\n",
    "9. Level\n",
    "Level dari sebuah node n adalah jumlah tepi(Edge) pada path dari node root ke n. Sebagai contoh, level node Felis pada Gambar 1 adalah lima. Menurut definisi, tingkat simpul akar adalah nol.\n",
    "10. height\n",
    "Ketinggian pohon sama dengan level maksimum dari setiap node di Tree. Tinggi pohon pada Gambar 2 adalah 3."
   ]
  },
  {
   "cell_type": "markdown",
   "metadata": {},
   "source": [
    "## Binary Tree"
   ]
  },
  {
   "cell_type": "markdown",
   "metadata": {},
   "source": [
    "Dalam ilmu komputer, sebuah pohon biner (binary tree) adalah sebuah pohon struktur data di mana setiap simpul memiliki paling banyak dua anak. Secara khusus anaknya dinamakan kiri dan kanan. Penggunaan secara umum pohon biner adalah Pohon biner terurut, yang lainnnya adalah heap biner.\n",
    "\n",
    "dibawah ini adalah source code class python binary tree."
   ]
  },
  {
   "cell_type": "code",
   "execution_count": null,
   "metadata": {},
   "outputs": [],
   "source": [
    "class BinaryTree:\n",
    "    def __init__(self,rootObj):\n",
    "        self.key = rootObj\n",
    "        self.leftChild = None\n",
    "        self.rightChild = None\n",
    "\n",
    "    def insertLeft(self,newNode):\n",
    "        if self.leftChild == None:\n",
    "            self.leftChild = BinaryTree(newNode)\n",
    "\n",
    "        else:\n",
    "            t = BinaryTree(newNode)\n",
    "            t.leftChild = self.leftChild\n",
    "            self.leftChild = t\n",
    "\n",
    "    def insertRight(self,newNode):\n",
    "        if self.rightChild == None:\n",
    "            self.rightChild = BinaryTree(newNode)\n",
    "\n",
    "        else:\n",
    "            t = BinaryTree(newNode)\n",
    "            t.rightChild = self.rightChild\n",
    "            self.rightChild = t\n",
    "\n",
    "    def getRightChild(self):\n",
    "        return self.rightChild\n",
    "\n",
    "    def getLeftChild(self):\n",
    "        return self.leftChild\n",
    "\n",
    "    def setRootVal(self,obj):\n",
    "        self.key = obj\n",
    "\n",
    "    def getRootVal(self):\n",
    "        return self.key\n",
    "\n",
    "    def show(self):\n",
    "\n",
    "        current = self.key\n",
    "        print (current)\n",
    "\n",
    "        selfleft = self\n",
    "        selfright = self\n",
    "        while selfleft.getLeftChild() != None  and selfright.getRightChild() != None :\n",
    "\n",
    "            print(selfleft.getLeftChild().getRootVal() )\n",
    "            print(selfright.getRightChild().getRootVal() )\n",
    "\n",
    "            selfleft = selfleft.getLeftChild()\n",
    "\n",
    "        while selfright.getRightChild() != None :\n",
    "            print(selfright.getRightChild().getRootVal() )\n",
    "\n",
    "            selfright = selfright.getRightChild()\n",
    "    def height(self):\n",
    "\n",
    "        selfleft = self\n",
    "        selfright = self\n",
    "        count = 0\n",
    "        while selfleft.getLeftChild() != None  or selfright.getRightChild() != None :\n",
    "\n",
    "            count = count + 1\n",
    "            if selfleft.getLeftChild() != None:\n",
    "                selfleft = selfleft.getLeftChild()\n",
    "\n",
    "            if selfright.getRightChild() != None:\n",
    "                selfright = selfright.getRightChild()\n",
    "        return count\n",
    "\n",
    "\n",
    "r = BinaryTree('a')\n",
    "print(r.getRootVal())\n",
    "r.insertLeft('b')\n",
    "r.insertRight('c')\n",
    "print(r.getLeftChild().getRootVal())\n",
    "\n",
    "\n",
    "print(r.getRightChild().getRootVal())\n",
    "print(r.height())\n"
   ]
  },
  {
   "cell_type": "markdown",
   "metadata": {},
   "source": [
    "## Parse Tree"
   ]
  },
  {
   "cell_type": "markdown",
   "metadata": {},
   "source": [
    "    parse tree atau pohon parsing [1] atau pohon derivasi atau pohon sintaksis beton adalah pohon berakar yang diurutkan yang mewakili struktur sintaksis string berdasarkan tata bahasa bebas konteks. Istilah parse tree sendiri digunakan terutama dalam linguistik komputasi; dalam sintaksis teoretis, pohon sintaksis istilah lebih umum."
   ]
  },
  {
   "cell_type": "markdown",
   "metadata": {},
   "source": [
    "    Dengan implementasi struktur data pohon selesai, sekarang melihat contoh bagaimana pohon dapat digunakan untuk memecahkan beberapa masalah nyata. Pada bagian ini kita akan melihat pohon parse. Pohon parse dapat digunakan untuk mewakili konstruksi dunia nyata seperti kalimat atau ekspresi matematika."
   ]
  },
  {
   "cell_type": "markdown",
   "metadata": {},
   "source": [
    "    Kita juga dapat merepresentasikan ekspresi matematis seperti ((7 + 3) ∗ (5 )2)) sebagai parse tree. Kita tahu bahwa perkalian memiliki prioritas lebih tinggi daripada penambahan atau pengurangan. Karena tanda kurung, kita tahu bahwa sebelum kita dapat melakukan perkalian, kita harus mengevaluasi penambahan tanda kurung dan pengurangan. \n",
    "    \n",
    "    Hirarki pohon membantu kita memahami urutan evaluasi untuk keseluruhan ekspresi. Sebelum kita dapat mengevaluasi perkalian tingkat atas, kita harus mengevaluasi penambahan dan pengurangan dalam subpohon. Penambahan, yang merupakan subtree kiri, mengevaluasi ke 10. Subtraction, yang merupakan subtree kanan, mengevaluasi ke 3. \n",
    "    \n",
    "    Dengan menggunakan struktur hierarki pohon, kita dapat dengan mudah mengganti seluruh subtree dengan satu simpul begitu kita telah mengevaluasi ekspresi dalam anak-anak. Menerapkan prosedur penggantian ini memberi kita pohon disederhanakan yang ditunjukkan pada Gambar 3."
   ]
  },
  {
   "cell_type": "markdown",
   "metadata": {},
   "source": [
    "    \"Langkah pertama dalam membangun pohon parse adalah memecah string ekspresi menjadi daftar token. Ada empat jenis token yang perlu dipertimbangkan: kurung kiri, kurung kanan, operator, dan operan. Kita tahu bahwa setiap kali kita membaca tanda kurung kiri kita memulai ekspresi baru, dan karenanya kita harus membuat pohon baru yang sesuai dengan ekspresi itu. Sebaliknya, setiap kali kita membaca tanda kurung yang benar, kita telah menyelesaikan ekspresi. Kita juga tahu bahwa operan akan menjadi node daun dan anak-anak dari operator mereka. Akhirnya, kita tahu bahwa setiap operator akan memiliki anak kiri dan kanan.\""
   ]
  },
  {
   "cell_type": "markdown",
   "metadata": {},
   "source": [
    "    Dengan menggunakan informasi dari atas, kita dapat mendefinisikan empat aturan sebagai berikut:"
   ]
  },
  {
   "cell_type": "markdown",
   "metadata": {},
   "source": [
    "1. Jika token saat ini adalah '(', tambahkan simpul baru sebagai anak kiri dari simpul saat ini, dan turun ke anak kiri.\n",
    "2. Jika token saat ini ada di daftar ['+', '-', '/', '*'], tetapkan nilai root dari node saat ini ke operator yang diwakili oleh token saat ini. Tambahkan simpul baru sebagai anak kanan dari simpul saat ini dan turun ke anak yang tepat.\n",
    "3. Jika token saat ini adalah angka, atur nilai akar dari simpul saat ini ke angka dan kembali ke induk.\n",
    "4. Jika token saat ini adalah ')', buka induk dari simpul saat ini."
   ]
  },
  {
   "cell_type": "markdown",
   "metadata": {},
   "source": [
    "    Sebelum menulis kode Python, mari kita lihat contoh aturan yang diuraikan di atas dalam tindakan. Kami akan menggunakan ekspresi (3+ (4 ∗ 5)). Kami akan menguraikan ekspresi ini ke dalam daftar token karakter berikut ['(', '3', '+', '(', '4', '*', '5', ')', ')']. Awalnya kita akan mulai dengan pohon parse yang terdiri dari simpul root kosong. Gambar 4 mengilustrasikan struktur dan isi pohon parse, karena setiap token baru diproses."
   ]
  },
  {
   "cell_type": "markdown",
   "metadata": {},
   "source": [
    "## Tree Traversals"
   ]
  },
  {
   "cell_type": "markdown",
   "metadata": {},
   "source": [
    "    Sekarang saatnya untuk melihat beberapa pola penggunaan tambahan untuk pohon. Pola penggunaan ini dapat dibagi menjadi tiga cara kita mengakses node pohon. Ada tiga pola yang umum digunakan untuk mengunjungi semua node di pohon. Perbedaan antara pola-pola ini adalah urutan di mana setiap node dikunjungi. Kami menyebut kunjungan node ini sebagai \"traversal.\" Tiga traversal yang akan kita lihat disebut preorder, inorder, dan postorder. Mari kita mulai dengan mendefinisikan tiga lintasan ini dengan lebih hati-hati, lalu lihat beberapa contoh di mana pola ini berguna."
   ]
  },
  {
   "cell_type": "markdown",
   "metadata": {},
   "source": [
    "1. Preorder\n",
    "    Dalam preorder traversal, kami mengunjungi node root terlebih dahulu, kemudian secara rekursif melakukan traversal preorder dari subtree kiri, diikuti oleh traversal preorder rekursif dari subtree kanan. tengah, kiri, kanan.\n",
    "\n",
    "2. Inorder\n",
    "    Dalam lintasan inorder, kami secara rekursif melakukan lintasan inorder pada subtree kiri, mengunjungi simpul akar, dan akhirnya melakukan travers inorder rekursif dari subtree kanan. kiri, tengah, kanan.\n",
    "\n",
    "3. postorder\n",
    "    Dalam postorder traversal, kami secara rekursif melakukan travers postorder dari subtree kiri dan subtree kanan diikuti oleh kunjungan ke node root. kiri, kanan, tengah."
   ]
  },
  {
   "cell_type": "code",
   "execution_count": null,
   "metadata": {},
   "outputs": [],
   "source": [
    "import operator\n",
    "def buildParseTree(fpexp):\n",
    "    fplist = fpexp.split()\n",
    "    pStack = Stack()\n",
    "    eTree = BinaryTree('')\n",
    "    pStack.push(eTree)\n",
    "    currentTree = eTree\n",
    "    for i in fplist:\n",
    "        if i == '(':\n",
    "            currentTree.insertLeft('')\n",
    "            pStack.push(currentTree)\n",
    "            currentTree = currentTree.getLeftChild()\n",
    "        elif i not in ['+', '-', '*', '/', ')']:\n",
    "            currentTree.setRootVal(int(i))\n",
    "            parent = pStack.pop()\n",
    "            currentTree = parent\n",
    "        elif i in ['+', '-', '*', '/']:\n",
    "            currentTree.setRootVal(i)\n",
    "            currentTree.insertRight('')\n",
    "            pStack.push(currentTree)\n",
    "            currentTree = currentTree.getRightChild()\n",
    "        elif i == ')':\n",
    "            currentTree = pStack.pop()\n",
    "        else:\n",
    "            raise ValueError\n",
    "    return eTree\n",
    "\n",
    "def preorder(tree):\n",
    "    if tree != None:\n",
    "        print(tree.getRootVal(), end=' ')\n",
    "        preorder(tree.getLeftChild())\n",
    "        preorder(tree.getRightChild())\n",
    "\n",
    "\n",
    "def postorder(tree):\n",
    "    if tree != None:\n",
    "        postorder(tree.getLeftChild())\n",
    "        postorder(tree.getRightChild())\n",
    "        print(tree.getRootVal(), end=' ')\n",
    "\n",
    "\n",
    "def inorder(tree):\n",
    "  if tree != None:\n",
    "      inorder(tree.getLeftChild())\n",
    "      print(tree.getRootVal(), end=' ')\n",
    "      inorder(tree.getRightChild())\n",
    "\n",
    "def postordereval(tree):\n",
    "    opers = {'+':operator.add, '-':operator.sub, '*':operator.mul, '/':operator.truediv}\n",
    "    res1 = None\n",
    "    res2 = None\n",
    "    if tree:\n",
    "        res1 = postordereval(tree.getLeftChild())\n",
    "        res2 = postordereval(tree.getRightChild())\n",
    "        if res1 and res2:\n",
    "            return opers[tree.getRootVal()](res1,res2)\n",
    "        else:\n",
    "            return tree.getRootVal()\n",
    "\n",
    "\n",
    "pt = buildParseTree(\"( ( 10 * 5 ) * ( ( 5 + 6 ) / 9 ) )\")\n",
    "\n",
    "\n",
    "preorder(pt)\n",
    "print()\n",
    "postorder(pt)\n",
    "print()\n",
    "inorder(pt)\n",
    "print()\n",
    "print(postordereval(pt))"
   ]
  },
  {
   "cell_type": "markdown",
   "metadata": {},
   "source": [
    "## Binary Search Tree"
   ]
  },
  {
   "cell_type": "markdown",
   "metadata": {},
   "source": [
    "    Binary Search Tree (BST) adalah pohon di mana semua node mengikuti properti yang disebutkan di bawah - Sub-pohon kiri dari sebuah simpul memiliki kunci kurang dari atau sama dengan kunci simpul induknya. Sub-pohon kanan dari simpul memiliki kunci yang lebih besar daripada kunci simpul induknya. Dengan demikian, BST membagi semua sub-pohonnya menjadi dua segmen; sub-pohon kiri dan sub-pohon kanan dan dapat didefinisikan sebagai"
   ]
  },
  {
   "cell_type": "markdown",
   "metadata": {},
   "source": [
    "    Cari nilai dalam B-tree\n",
    "    Mencari nilai dalam tree melibatkan membandingkan nilai yang masuk dengan nilai yang keluar dari node. Di sini juga kita melintasi simpul dari kiri ke kanan dan akhirnya dengan induknya. Jika nilai yang dicari tidak cocok dengan nilai keluar apa pun, maka kami mengembalikan pesan yang tidak ditemukan. Pesan yang ditemukan juga akan dikembalikan."
   ]
  },
  {
   "cell_type": "code",
   "execution_count": 1,
   "metadata": {},
   "outputs": [
    {
     "name": "stdout",
     "output_type": "stream",
     "text": [
      "7 Not Found\n",
      "14 is found\n",
      "None\n"
     ]
    }
   ],
   "source": [
    "class Node:\n",
    "\n",
    "    def __init__(self, data):\n",
    "\n",
    "        self.left = None\n",
    "        self.right = None\n",
    "        self.data = data\n",
    "\n",
    "# Insert method to create nodes\n",
    "    def insert(self, data):\n",
    "\n",
    "        if self.data:\n",
    "            if data < self.data:\n",
    "                if self.left is None:\n",
    "                    self.left = Node(data)\n",
    "                else:\n",
    "                    self.left.insert(data)\n",
    "            elif data > self.data:\n",
    "                if self.right is None:\n",
    "                    self.right = Node(data)\n",
    "                else:\n",
    "                    self.right.insert(data)\n",
    "        else:\n",
    "            self.data = data\n",
    "# findval method to compare the value with nodes\n",
    "    def findval(self, lkpval):\n",
    "        if lkpval < self.data:\n",
    "            if self.left is None:\n",
    "                return str(lkpval)+\" Not Found\"\n",
    "            return self.left.findval(lkpval)\n",
    "        elif lkpval > self.data:\n",
    "            if self.right is None:\n",
    "                return str(lkpval)+\" Not Found\"\n",
    "            return self.right.findval(lkpval)\n",
    "        else:\n",
    "            print(str(self.data) + ' is found')\n",
    "# Print the tree\n",
    "    def PrintTree(self):\n",
    "        if self.left:\n",
    "            self.left.PrintTree()\n",
    "        print( self.data),\n",
    "        if self.right:\n",
    "            self.right.PrintTree()\n",
    "\n",
    "\n",
    "root = Node(12)\n",
    "root.insert(6)\n",
    "root.insert(14)\n",
    "root.insert(3)\n",
    "print(root.findval(7))\n",
    "print(root.findval(14))\n"
   ]
  },
  {
   "cell_type": "markdown",
   "metadata": {},
   "source": [
    "## Insert Node"
   ]
  },
  {
   "cell_type": "markdown",
   "metadata": {},
   "source": [
    "Mulai dari akar pohon, cari pohon biner yang membandingkan kunci baru dengan kunci di simpul saat ini. Jika kunci baru kurang dari node saat ini, cari subtree kiri. Jika kunci baru lebih besar dari simpul saat ini, cari subtree kanan."
   ]
  },
  {
   "cell_type": "code",
   "execution_count": 2,
   "metadata": {},
   "outputs": [
    {
     "name": "stdout",
     "output_type": "stream",
     "text": [
      "20\n",
      "30\n",
      "40\n",
      "50\n",
      "60\n",
      "70\n",
      "80\n"
     ]
    }
   ],
   "source": [
    "# Python program to demonstrate insert operation in binary search tree \n",
    "\n",
    "# A utility class that represents an individual node in a BST \n",
    "class Node: \n",
    "    def __init__(self,key): \n",
    "        self.left = None\n",
    "        self.right = None\n",
    "        self.val = key \n",
    "\n",
    "# A utility function to insert a new node with the given key \n",
    "def insert(root,node): \n",
    "    if root is None: \n",
    "        root = node \n",
    "    else: \n",
    "        if root.val < node.val: \n",
    "            if root.right is None: \n",
    "                root.right = node \n",
    "            else: \n",
    "                insert(root.right, node) \n",
    "        else: \n",
    "            if root.left is None: \n",
    "                root.left = node \n",
    "            else: \n",
    "                insert(root.left, node) \n",
    "\n",
    "# A utility function to do inorder tree traversal \n",
    "def inorder(root): \n",
    "    if root: \n",
    "        inorder(root.left) \n",
    "        print(root.val) \n",
    "        inorder(root.right) \n",
    "\n",
    "\n",
    "# Driver program to test the above functions \n",
    "# Let us create the following BST \n",
    "#\t 50 \n",
    "# /\t \\ \n",
    "# 30\t 70 \n",
    "# / \\ / \\ \n",
    "# 20 40 60 80 \n",
    "r = Node(50) \n",
    "insert(r,Node(30)) \n",
    "insert(r,Node(20)) \n",
    "insert(r,Node(40)) \n",
    "insert(r,Node(70)) \n",
    "insert(r,Node(60)) \n",
    "insert(r,Node(80)) \n",
    "\n",
    "# Print inoder traversal of the BST \n",
    "inorder(r) \n",
    "\n",
    "# This code is contributed by Bhavya Jain \n"
   ]
  },
  {
   "cell_type": "markdown",
   "metadata": {},
   "source": [
    "## Delete Node"
   ]
  },
  {
   "cell_type": "markdown",
   "metadata": {},
   "source": [
    "telah dibahas operasi pencarian dan penyisipan BST diatas. Dalam posting ini, operasi delete dibahas. Saat kami menghapus simpul, tiga kemungkinan muncul.\n",
    "1) Node yang akan dihapus adalah daun: Cukup hapus dari pohon.\n",
    "\n",
    "              50 50\n",
    "           / \\ delete (20) / \\\n",
    "          30 70 ---------> 30 70\n",
    "         / \\ / \\ \\ / \\\n",
    "       20 40 60 80 40 60 80\n",
    "2) Node yang akan dihapus hanya memiliki satu anak: Salin anak ke simpul dan hapus anak\n",
    "\n",
    "              50 50\n",
    "           / \\ delete (30) / \\\n",
    "          30 70 ---------> 40 70\n",
    "            \\ / \\ / \\\n",
    "            40 60 80 60 80\n",
    "3) Node yang akan dihapus memiliki dua anak: Temukan penerus inorder dari node. Salin konten penerus inorder ke node dan hapus penerus inorder. Perhatikan bahwa pendahulu inorder juga dapat digunakan.\n",
    "\n",
    "              50 60\n",
    "           / \\ delete (50) / \\\n",
    "          40 70 ---------> 40 70\n",
    "                 / \\ \\\n",
    "                60 80 80\n",
    "Yang penting untuk dicatat adalah, penerus inorder hanya diperlukan ketika anak yang tepat tidak kosong. Dalam kasus khusus ini, penerus inorder dapat diperoleh dengan menemukan nilai minimum pada anak simpul yang tepat."
   ]
  },
  {
   "cell_type": "code",
   "execution_count": 8,
   "metadata": {},
   "outputs": [
    {
     "name": "stdout",
     "output_type": "stream",
     "text": [
      "Inorder traversal of the given tree\n",
      "20 30 40 50 60 70 80 \n",
      "Delete 20\n",
      "Inorder traversal of the modified tree\n",
      "30 40 50 60 70 80 \n",
      "Delete 30\n",
      "Inorder traversal of the modified tree\n",
      "40 50 60 70 80 \n",
      "Delete 50\n",
      "Inorder traversal of the modified tree\n",
      "40 60 70 80 "
     ]
    }
   ],
   "source": [
    "# Python program to demonstrate delete operation \n",
    "# in binary search tree \n",
    "\n",
    "# A Binary Tree Node \n",
    "class Node: \n",
    "\n",
    "\t# Constructor to create a new node \n",
    "\tdef __init__(self, key): \n",
    "\t\tself.key = key \n",
    "\t\tself.left = None\n",
    "\t\tself.right = None\n",
    "\n",
    "\n",
    "# A utility function to do inorder traversal of BST \n",
    "def inorder(root): \n",
    "\tif root is not None: \n",
    "\t\tinorder(root.left) \n",
    "\t\tprint (root.key,end=\" \")\n",
    "\t\tinorder(root.right) \n",
    "\n",
    "\n",
    "# A utility function to insert a new node with given key in BST \n",
    "def insert( node, key): \n",
    "\n",
    "\t# If the tree is empty, return a new node \n",
    "\tif node is None: \n",
    "\t\treturn Node(key) \n",
    "\n",
    "\t# Otherwise recur down the tree \n",
    "\tif key < node.key: \n",
    "\t\tnode.left = insert(node.left, key) \n",
    "\telse: \n",
    "\t\tnode.right = insert(node.right, key) \n",
    "\n",
    "\t# return the (unchanged) node pointer \n",
    "\treturn node \n",
    "\n",
    "# Given a non-empty binary search tree, return the node \n",
    "# with minum key value found in that tree. Note that the \n",
    "# entire tree does not need to be searched \n",
    "def minValueNode( node): \n",
    "\tcurrent = node \n",
    "\n",
    "\t# loop down to find the leftmost leaf \n",
    "\twhile(current.left is not None): \n",
    "\t\tcurrent = current.left \n",
    "\n",
    "\treturn current \n",
    "\n",
    "# Given a binary search tree and a key, this function \n",
    "# delete the key and returns the new root \n",
    "def deleteNode(root, key): \n",
    "\n",
    "\t# Base Case \n",
    "\tif root is None: \n",
    "\t\treturn root \n",
    "\n",
    "\t# If the key to be deleted is smaller than the root's \n",
    "\t# key then it lies in left subtree \n",
    "\tif key < root.key: \n",
    "\t\troot.left = deleteNode(root.left, key) \n",
    "\n",
    "\t# If the kye to be delete is greater than the root's key \n",
    "\t# then it lies in right subtree \n",
    "\telif(key > root.key): \n",
    "\t\troot.right = deleteNode(root.right, key) \n",
    "\n",
    "\t# If key is same as root's key, then this is the node \n",
    "\t# to be deleted \n",
    "\telse: \n",
    "\t\t\n",
    "\t\t# Node with only one child or no child \n",
    "\t\tif root.left is None : \n",
    "\t\t\ttemp = root.right \n",
    "\t\t\troot = None\n",
    "\t\t\treturn temp \n",
    "\t\t\t\n",
    "\t\telif root.right is None : \n",
    "\t\t\ttemp = root.left \n",
    "\t\t\troot = None\n",
    "\t\t\treturn temp \n",
    "\n",
    "\t\t# Node with two children: Get the inorder successor \n",
    "\t\t# (smallest in the right subtree) \n",
    "\t\ttemp = minValueNode(root.right) \n",
    "\n",
    "\t\t# Copy the inorder successor's content to this node \n",
    "\t\troot.key = temp.key \n",
    "\n",
    "\t\t# Delete the inorder successor \n",
    "\t\troot.right = deleteNode(root.right , temp.key) \n",
    "\n",
    "\n",
    "\treturn root \n",
    "\n",
    "# Driver program to test above functions \n",
    "\"\"\" Let us create following BST \n",
    "\t\t\t50 \n",
    "\t\t/\t \\ \n",
    "\t\t30\t 70 \n",
    "\t\t/ \\ / \\ \n",
    "\t20 40 60 80 \"\"\"\n",
    "\n",
    "root = None\n",
    "root = insert(root, 50) \n",
    "root = insert(root, 30) \n",
    "root = insert(root, 20) \n",
    "root = insert(root, 40) \n",
    "root = insert(root, 70) \n",
    "root = insert(root, 60) \n",
    "root = insert(root, 80) \n",
    "\n",
    "print (\"Inorder traversal of the given tree\")\n",
    "inorder(root) \n",
    "\n",
    "print (\"\\nDelete 20\")\n",
    "root = deleteNode(root, 20) \n",
    "print (\"Inorder traversal of the modified tree\")\n",
    "inorder(root) \n",
    "\n",
    "print (\"\\nDelete 30\")\n",
    "root = deleteNode(root, 30) \n",
    "print (\"Inorder traversal of the modified tree\")\n",
    "inorder(root) \n",
    "\n",
    "print (\"\\nDelete 50\")\n",
    "root = deleteNode(root, 50) \n",
    "print (\"Inorder traversal of the modified tree\")\n",
    "inorder(root) \n",
    "\n",
    "# This code is contributed by Nikhil Kumar Singh(nickzuck_007) \n"
   ]
  }
 ],
 "metadata": {
  "kernelspec": {
   "display_name": "Python 3",
   "language": "python",
   "name": "python3"
  },
  "language_info": {
   "codemirror_mode": {
    "name": "ipython",
    "version": 3
   },
   "file_extension": ".py",
   "mimetype": "text/x-python",
   "name": "python",
   "nbconvert_exporter": "python",
   "pygments_lexer": "ipython3",
   "version": "3.7.1"
  }
 },
 "nbformat": 4,
 "nbformat_minor": 2
}
